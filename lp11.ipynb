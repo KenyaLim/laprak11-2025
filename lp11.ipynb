{
 "cells": [
  {
   "cell_type": "code",
   "execution_count": null,
   "id": "f42b7d06",
   "metadata": {},
   "outputs": [
    {
     "name": "stdout",
     "output_type": "stream",
     "text": [
      "[100, 99, 90]\n"
     ]
    }
   ],
   "source": [
    "#soal1\n",
    "list = [90,40,50,99,100,85]\n",
    "big3 = []\n",
    "for i in range(3):\n",
    "    big3.append(max(list))\n",
    "    list.remove(max(list))\n",
    "print(big3)"
   ]
  },
  {
   "cell_type": "code",
   "execution_count": 5,
   "id": "fe0c1680",
   "metadata": {},
   "outputs": [
    {
     "name": "stdout",
     "output_type": "stream",
     "text": [
      "\n",
      "Rata-rata bilangan yang dimasukkan: 27.50\n"
     ]
    }
   ],
   "source": [
    "#soal2\n",
    "bilangan = []\n",
    "\n",
    "while True:\n",
    "    input_user = input(\"Masukkan angka (atau 'done' untuk mengakhiri): \")\n",
    "    \n",
    "    if input_user.lower() == \"done\":\n",
    "        break\n",
    "        \n",
    "    try:\n",
    "        angka = float(input_user)\n",
    "        bilangan.append(angka)\n",
    "    except ValueError:\n",
    "        print(\"Input tidak valid! Silakan masukkan angka atau 'done'\")\n",
    "\n",
    "if len(bilangan) > 0:\n",
    "    rata_rata = sum(bilangan) / len(bilangan)\n",
    "    print(f\"\\nRata-rata bilangan yang dimasukkan: {rata_rata:.2f}\")\n",
    "else:\n",
    "    print(\"\\nTidak ada bilangan yang dimasukkan!\")"
   ]
  },
  {
   "cell_type": "code",
   "execution_count": 7,
   "id": "5db6fa60",
   "metadata": {},
   "outputs": [
    {
     "name": "stdout",
     "output_type": "stream",
     "text": [
      "Kata unik:\n",
      "1. python\n",
      "2. adalah\n",
      "3. bahasa\n",
      "4. pemrograman\n",
      "5. yang\n",
      "6. populer\n",
      "7. digunakan\n",
      "8. untuk\n",
      "9. berbagai\n",
      "10. keperluan\n",
      "11. seperti\n",
      "12. pengembangan\n",
      "13. web\n",
      "14. analisis\n",
      "15. data\n",
      "16. dan\n",
      "17. kecerdasan\n",
      "18. buatan\n",
      "19. dikenal\n",
      "20. dengan\n",
      "21. sintaks\n",
      "22. mudah\n",
      "23. dipahami\n",
      "24. banyak\n",
      "25. programmer\n",
      "26. memilih\n",
      "27. sebagai\n",
      "28. pertama\n",
      "29. dipelajari\n",
      "30. memiliki\n",
      "31. komunitas\n",
      "32. besar\n",
      "33. aktif\n",
      "\n",
      "Total: 33 kata unik\n"
     ]
    }
   ],
   "source": [
    "import string\n",
    "\n",
    "with open('artikel.txt', 'w') as f:\n",
    "    f.write(\"Python adalah bahasa pemrograman yang populer. Python digunakan untuk berbagai keperluan seperti pengembangan web, analisis data, dan kecerdasan buatan. Bahasa Python dikenal dengan sintaks yang mudah dipahami. Banyak programmer memilih Python sebagai bahasa pertama untuk dipelajari. Python memiliki komunitas yang besar dan aktif.\")\n",
    "\n",
    "with open('artikel.txt', 'r') as file:\n",
    "    words = file.read().translate(str.maketrans('', '', string.punctuation)).lower().split()\n",
    "\n",
    "unique_words = sorted(set(words), key=words.index)\n",
    "\n",
    "print(\"Kata unik:\\n\" + \"\\n\".join(f\"{i+1}. {w}\" for i, w in enumerate(unique_words)))\n",
    "print(f\"\\nTotal: {len(unique_words)} kata unik\")"
   ]
  }
 ],
 "metadata": {
  "kernelspec": {
   "display_name": "Python 3",
   "language": "python",
   "name": "python3"
  },
  "language_info": {
   "codemirror_mode": {
    "name": "ipython",
    "version": 3
   },
   "file_extension": ".py",
   "mimetype": "text/x-python",
   "name": "python",
   "nbconvert_exporter": "python",
   "pygments_lexer": "ipython3",
   "version": "3.12.5"
  }
 },
 "nbformat": 4,
 "nbformat_minor": 5
}
